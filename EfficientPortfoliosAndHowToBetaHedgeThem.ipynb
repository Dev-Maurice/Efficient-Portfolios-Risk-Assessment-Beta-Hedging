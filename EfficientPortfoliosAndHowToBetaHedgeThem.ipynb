{
 "cells": [
  {
   "cell_type": "markdown",
   "id": "780219e0",
   "metadata": {},
   "source": [
    "# Efficient Portfolio's And How To Beta Hedge Them!\n",
    " ## Author: Maurice Hoffman \n",
    " ## Educational Background: BBA Finance Zicklin School of Business Baruch College\n",
    " \n",
    " ### Email: Maurice.Hoffman82@gmail.com"
   ]
  },
  {
   "cell_type": "markdown",
   "id": "496be8bf",
   "metadata": {},
   "source": [
    "## Foreword:\n",
    "### Hello viewer, this file was intentionally created in a \"Jupyter Notebook\" as to provide insight to those who may be unfamiliar with the Python programming language. If you are so inclined, feel free to read through my comments and explanations behind the code as well as common questions I've received relating to this file from previous viewers.\n",
    "#### If you are unfamiliar with JupyterNotebooks, in order to \"Run\" a cell, you must click inside the cell, and press CTRL Enter, each cell requires that you run the previous cell. (EX: You may not run the last cell without running all the cells prior.) \n",
    "\n",
    "#### Q: What is this program? \n",
    "#### A: This program is intended to automate the generation of \"efficient portfolios\" and display the beta hedging process. This program extensively utilizes Markowitz/Sharpe portfolio theory which was a favorite topic of mine throughout the duration of my studies. There are brief explanations for those unfamiliar with the aforementioned financial theory, and it is my hope that they aid you in interpreting the code. "
   ]
  },
  {
   "cell_type": "markdown",
   "id": "0a74aef5",
   "metadata": {},
   "source": [
    "## Imports And Libraries Utilized\n",
    "##### Pandas for its datahandling capabilities. NumPy for its array manipulating capabilities. Statsmodel for OLS regression, Scipy.Stats for statistical functions that aren't readily available in other libraries. Datetime for  viewer mutability, and Matplotlib for visualization.\n",
    "\n",
    "#### Note: The !pip install command is left there intentionally as previous viewers have noted that Jupyter may not recognize certain libraries without them. "
   ]
  },
  {
   "cell_type": "code",
   "execution_count": 1,
   "id": "787dcd54",
   "metadata": {},
   "outputs": [
    {
     "name": "stdout",
     "output_type": "stream",
     "text": [
      "Collecting pandas-datareader\n",
      "  Downloading pandas_datareader-0.10.0-py3-none-any.whl (109 kB)\n",
      "\u001b[K     |████████████████████████████████| 109 kB 4.8 MB/s eta 0:00:01\n",
      "\u001b[?25hRequirement already satisfied: pandas>=0.23 in /srv/conda/envs/notebook/lib/python3.6/site-packages (from pandas-datareader) (1.1.5)\n",
      "Collecting lxml\n",
      "  Downloading lxml-4.6.3-cp36-cp36m-manylinux2014_x86_64.whl (6.3 MB)\n",
      "\u001b[K     |████████████████████████████████| 6.3 MB 20.5 MB/s eta 0:00:01\n",
      "\u001b[?25hRequirement already satisfied: requests>=2.19.0 in /srv/conda/envs/notebook/lib/python3.6/site-packages (from pandas-datareader) (2.26.0)\n",
      "Requirement already satisfied: python-dateutil>=2.7.3 in /srv/conda/envs/notebook/lib/python3.6/site-packages (from pandas>=0.23->pandas-datareader) (2.8.2)\n",
      "Requirement already satisfied: pytz>=2017.2 in /srv/conda/envs/notebook/lib/python3.6/site-packages (from pandas>=0.23->pandas-datareader) (2021.1)\n",
      "Requirement already satisfied: numpy>=1.15.4 in /srv/conda/envs/notebook/lib/python3.6/site-packages (from pandas>=0.23->pandas-datareader) (1.19.5)\n",
      "Requirement already satisfied: six>=1.5 in /srv/conda/envs/notebook/lib/python3.6/site-packages (from python-dateutil>=2.7.3->pandas>=0.23->pandas-datareader) (1.16.0)\n",
      "Requirement already satisfied: urllib3<1.27,>=1.21.1 in /srv/conda/envs/notebook/lib/python3.6/site-packages (from requests>=2.19.0->pandas-datareader) (1.26.6)\n",
      "Requirement already satisfied: charset-normalizer~=2.0.0 in /srv/conda/envs/notebook/lib/python3.6/site-packages (from requests>=2.19.0->pandas-datareader) (2.0.0)\n",
      "Requirement already satisfied: certifi>=2017.4.17 in /srv/conda/envs/notebook/lib/python3.6/site-packages (from requests>=2.19.0->pandas-datareader) (2021.5.30)\n",
      "Requirement already satisfied: idna<4,>=2.5 in /srv/conda/envs/notebook/lib/python3.6/site-packages (from requests>=2.19.0->pandas-datareader) (3.1)\n",
      "Installing collected packages: lxml, pandas-datareader\n",
      "Successfully installed lxml-4.6.3 pandas-datareader-0.10.0\n",
      "Collecting statsmodels\n",
      "  Downloading statsmodels-0.12.2-cp36-cp36m-manylinux1_x86_64.whl (9.5 MB)\n",
      "\u001b[K     |████████████████████████████████| 9.5 MB 4.8 MB/s eta 0:00:01\n",
      "\u001b[?25hRequirement already satisfied: scipy>=1.1 in /srv/conda/envs/notebook/lib/python3.6/site-packages (from statsmodels) (1.5.3)\n",
      "Requirement already satisfied: pandas>=0.21 in /srv/conda/envs/notebook/lib/python3.6/site-packages (from statsmodels) (1.1.5)\n",
      "Requirement already satisfied: numpy>=1.15 in /srv/conda/envs/notebook/lib/python3.6/site-packages (from statsmodels) (1.19.5)\n",
      "Collecting patsy>=0.5\n",
      "  Downloading patsy-0.5.2-py2.py3-none-any.whl (233 kB)\n",
      "\u001b[K     |████████████████████████████████| 233 kB 64.9 MB/s eta 0:00:01\n",
      "\u001b[?25hRequirement already satisfied: python-dateutil>=2.7.3 in /srv/conda/envs/notebook/lib/python3.6/site-packages (from pandas>=0.21->statsmodels) (2.8.2)\n",
      "Requirement already satisfied: pytz>=2017.2 in /srv/conda/envs/notebook/lib/python3.6/site-packages (from pandas>=0.21->statsmodels) (2021.1)\n",
      "Requirement already satisfied: six in /srv/conda/envs/notebook/lib/python3.6/site-packages (from patsy>=0.5->statsmodels) (1.16.0)\n",
      "Installing collected packages: patsy, statsmodels\n",
      "Successfully installed patsy-0.5.2 statsmodels-0.12.2\n",
      " You are accessing this file on: 2021-09-30 15:51:17.575957!\n"
     ]
    }
   ],
   "source": [
    "!pip install pandas-datareader \n",
    "!pip install statsmodels\n",
    "import pandas as pd\n",
    "import numpy as np\n",
    "import datetime as dt\n",
    "import matplotlib.pyplot as plt\n",
    "from pandas_datareader import data as pdr\n",
    "from scipy.stats import norm\n",
    "from datetime import timedelta\n",
    "\n",
    "\n",
    "print(f\" You are accessing this file on: {dt.datetime.now()}!\")"
   ]
  },
  {
   "cell_type": "markdown",
   "id": "ff8c96aa",
   "metadata": {},
   "source": [
    "## Pulling Data From Yahoo Finance\n",
    "### We begin by choosing our list of stocks to read into a pandas dataframe, and we pull the Adj Close variable for further processing."
   ]
  },
  {
   "cell_type": "code",
   "execution_count": 16,
   "id": "b1a4d350",
   "metadata": {},
   "outputs": [
    {
     "name": "stdout",
     "output_type": "stream",
     "text": [
      "Symbols           AAPL        TSLA        NFLX        XOM          T\n",
      "Date                                                                \n",
      "2020-09-30  115.069885  429.010010  500.029999  32.003803  26.559910\n",
      "2020-10-01  116.043625  448.160004  527.510010  30.885115  26.541279\n",
      "2020-10-02  112.297714  415.089996  503.059998  30.745279  26.718285\n",
      "2020-10-05  115.755478  425.679993  520.650024  31.453783  26.708967\n",
      "2020-10-06  112.436821  413.980011  505.869995  31.127497  26.746229\n"
     ]
    }
   ],
   "source": [
    "start = dt.datetime(2019, 1, 1)\n",
    "now = dt.datetime.now() \n",
    "start = now + dt.timedelta(days = (-365))\n",
    "Stocks = ['AAPL', 'TSLA', 'NFLX', 'XOM', 'T']\n",
    "\n",
    "df = pdr.DataReader(Stocks, data_source='yahoo', start=start, end=now)['Adj Close']\n",
    "\n",
    "print(df.head())"
   ]
  },
  {
   "cell_type": "markdown",
   "id": "6f3932f8",
   "metadata": {},
   "source": [
    "## Initial Data Processing\n",
    "### We aggregate the 'Adj Close' data and compile such into \"Return\" data which we will process further!"
   ]
  },
  {
   "cell_type": "code",
   "execution_count": 17,
   "id": "e701686f",
   "metadata": {},
   "outputs": [
    {
     "data": {
      "image/png": "[encoded data removed]",
      "text/plain": [
       "<Figure size 432x288 with 1 Axes>"
      ]
     },
     "metadata": {
      "needs_background": "light"
     },
     "output_type": "display_data"
    },
    {
     "name": "stdout",
     "output_type": "stream",
     "text": [
      "Symbols\n",
      "AAPL    0.209733\n",
      "TSLA    0.594808\n",
      "NFLX    0.197463\n",
      "XOM     0.620169\n",
      "T       0.023720\n",
      "dtype: float64\n"
     ]
    }
   ],
   "source": [
    "#Log Returns DataFrame:\n",
    "Log_Returns = np.log(df/df.shift(1))\n",
    "Log_Returns.dropna(inplace = True)\n",
    "\n",
    "plt.plot(Log_Returns)\n",
    "plt.title('Log_Returns Visualization')\n",
    "plt.legend(Log_Returns.columns)\n",
    "plt.show()\n",
    "\n",
    "#Generate Daily Mean Return\n",
    "Daily_Mean_Return = Log_Returns.mean()\n",
    "\n",
    "#Annualize Daily Return By Trading Days (We drop a datapoint so 252-1)\n",
    "Annual_Mean_Return = Daily_Mean_Return * 251\n",
    "\n",
    "print(Annual_Mean_Return)"
   ]
  },
  {
   "cell_type": "markdown",
   "id": "8fe65950",
   "metadata": {},
   "source": [
    "## Covariance Matrix\n",
    "### Here we generate a covariance matrix utilizing the Log Return data we calculated in the previous cell."
   ]
  },
  {
   "cell_type": "code",
   "execution_count": 18,
   "id": "53ed52e3",
   "metadata": {
    "scrolled": true
   },
   "outputs": [
    {
     "name": "stdout",
     "output_type": "stream",
     "text": [
      "Symbols      AAPL      TSLA      NFLX       XOM         T\n",
      "Symbols                                                  \n",
      "AAPL     0.000309  0.000247  0.000179  0.000012 -0.000008\n",
      "TSLA     0.000247  0.001139  0.000238  0.000012 -0.000017\n",
      "NFLX     0.000179  0.000238  0.000482 -0.000061 -0.000031\n",
      "XOM      0.000012  0.000012 -0.000061  0.000506  0.000123\n",
      "T       -0.000008 -0.000017 -0.000031  0.000123  0.000139\n"
     ]
    }
   ],
   "source": [
    "CovarianceMatrixDaily = Log_Returns.cov() \n",
    "\n",
    "#Same annualization process\n",
    "CovarianceMatrixAnnual = CovarianceMatrixDaily * 251\n",
    "\n",
    "print(CovarianceMatrixDaily)"
   ]
  },
  {
   "cell_type": "markdown",
   "id": "b40a8910",
   "metadata": {},
   "source": [
    "## Example Portfolio Generation Class!\n",
    "#### We have now obtained the requisite data required to generate portfolios! Utilizing a Quasi-Monte-Carlo simulation, we may compose a series of different asset weightings which will ultimately determine our portfolio's expected return, volatility, and its Sharpe Ratio! This next cell, is a SAMPLE portfolio generation class which was created to provide clarity for the ACTUAL simulation class. I encourage the viewer to run this cell and observe how at each iteration, one generates new portfolio weights and consequently new returns and volatility. "
   ]
  },
  {
   "cell_type": "code",
   "execution_count": 19,
   "id": "fc146eb2",
   "metadata": {},
   "outputs": [
    {
     "name": "stdout",
     "output_type": "stream",
     "text": [
      "Sample Portfolio Weights: [0.31690991 0.26710191 0.10118537 0.18937925 0.12542356]\n",
      "Sample Portfolio Volatility: 0.2281458893633504\n",
      "Sample Portfolio Return: 0.3657432610414132\n",
      "Sample Portfolio Sharpe Ratio: 1.6031113339891128\n"
     ]
    }
   ],
   "source": [
    "Asset_Counter = len(Stocks)\n",
    "\n",
    "        \n",
    "class SamplePortfolioGeneration: \n",
    "    ###Generate Characteristics need not be in its own function, and may be calculated in the class's initializer ####\n",
    "    ###              This is solely done for readability purposes as to separate the calculations!                ####\n",
    "    \n",
    "    def generate_characteristics(self):\n",
    "        Weight = np.random.random(Asset_Counter)\n",
    "        self.PortfolioWeights = (Weight / np.sum(Weight))\n",
    "        self.PortfolioReturn = np.dot(self.PortfolioWeights, self.ReturnData)\n",
    "        self.PortfolioVolatility = np.sqrt(np.dot(self.PortfolioWeights, np.dot(self.CovarianceData, self.PortfolioWeights)))\n",
    "        self.SharpeRatio = self.PortfolioReturn/self.PortfolioVolatility\n",
    "    \n",
    "    \n",
    "    def __init__(self, ReturnData, CovarianceData):\n",
    "        self.ReturnData = ReturnData\n",
    "        self.CovarianceData = CovarianceData\n",
    "\n",
    "\n",
    "        \n",
    "##Declare An Instance Of The SamplePortfolioGeneration Class\n",
    "\n",
    "SamplePortfolio = SamplePortfolioGeneration(Annual_Mean_Return, CovarianceMatrixAnnual)\n",
    "\n",
    "##Call The Method Associated With The SamplePortfolioGeneration Class\n",
    "SamplePortfolio.generate_characteristics()\n",
    "\n",
    "print(f\"Sample Portfolio Weights: {SamplePortfolio.PortfolioWeights}\")\n",
    "print(f\"Sample Portfolio Volatility: {SamplePortfolio.PortfolioVolatility}\")\n",
    "print(f\"Sample Portfolio Return: {SamplePortfolio.PortfolioReturn}\")\n",
    "print(f\"Sample Portfolio Sharpe Ratio: {SamplePortfolio.SharpeRatio}\")\n",
    "\n",
    "        \n",
    "        \n",
    "        "
   ]
  },
  {
   "cell_type": "markdown",
   "id": "33ce7461",
   "metadata": {},
   "source": [
    "## Running Simulations!\n",
    "#### Now that we are able to understand the process behind the generation of one portfolio, repeating this class structure in a for loop allows us to generate values which we may place in lists. \n",
    "\n",
    "#### Q: Why are we generating portfolio's? \n",
    "#### A: We are generating portfolio's as a means of obtaining the most optimal composition of weights. Our key metric by which we determine the optimal composition of weights will be our Sharpe Ratio!\n",
    "\n",
    "#### Q: What is the Sharpe Ratio?\n",
    "#### A: It reflects a ratio in which each unit of return is expressed in terms of risk. Consider a Sharpe Ratio of 1.5, for every unit of risk, we generate 1.5 units of return. (Our risk metric is expressed in terms of volatility.)\n",
    "\n",
    "\n",
    "#### Note: A special thanks to Mr. Bernard Brenyah as this upcoming cell is inspired by his work!\n",
    "#### Please see his medium article if you so wish!\n",
    "https://medium.com/python-data/efficient-frontier-portfolio-optimization-with-python-part-2-2-2fe23413ad94\n",
    "    \n",
    "\n",
    "\n"
   ]
  },
  {
   "cell_type": "code",
   "execution_count": 22,
   "id": "194e2048",
   "metadata": {},
   "outputs": [
    {
     "name": "stdout",
     "output_type": "stream",
     "text": [
      "    Returns  Volatility  Sharpe Ratio  AAPL Weight  TSLA Weight  NFLX Weight  \\\n",
      "0  0.337219    0.191270      1.763054     0.208836     0.184839     0.112075   \n",
      "1  0.488490    0.251031      1.945930     0.184348     0.308341     0.045710   \n",
      "2  0.193555    0.193082      1.002452     0.311572     0.020877     0.369366   \n",
      "3  0.317076    0.197330      1.606828     0.131967     0.038155     0.409026   \n",
      "4  0.486960    0.276242      1.762799     0.118791     0.420133     0.040521   \n",
      "\n",
      "   XOM Weight  T Weight  \n",
      "0    0.250855  0.243396  \n",
      "1    0.413191  0.048411  \n",
      "2    0.059991  0.238194  \n",
      "3    0.295001  0.125851  \n",
      "4    0.325544  0.095011  \n"
     ]
    }
   ],
   "source": [
    "class GeneratePortfolio: \n",
    "    def __init__(self, ReturnData, CovarianceData):\n",
    "        Weight = np.random.random(Asset_Counter)\n",
    "        self.PortfolioWeights = (Weight / np.sum(Weight))\n",
    "        self.PortfolioReturn = np.dot(self.PortfolioWeights, ReturnData)\n",
    "        self.PortfolioVolatility = np.sqrt(np.dot(self.PortfolioWeights, np.dot(CovarianceData, self.PortfolioWeights)))\n",
    "        self.SharpeRatio = self.PortfolioReturn/self.PortfolioVolatility\n",
    "\n",
    "\n",
    "\n",
    "N_Portfolios = 50000 #This is the # of simulations!\n",
    "\n",
    "PortfolioWeights = []\n",
    "PortfolioReturns = []\n",
    "PortfolioVol = []\n",
    "SharpeRatios = []\n",
    "\n",
    "\n",
    "for Iterator in range(N_Portfolios):\n",
    "    Portfolio = GeneratePortfolio(Annual_Mean_Return, CovarianceMatrixAnnual)\n",
    "    PortfolioWeights.append(Portfolio.PortfolioWeights)\n",
    "    PortfolioReturns.append(Portfolio.PortfolioReturn)\n",
    "    PortfolioVol.append(Portfolio.PortfolioVolatility)\n",
    "    SharpeRatios.append(Portfolio.SharpeRatio)\n",
    "\n",
    "\n",
    "portfolio = {'Returns' : PortfolioReturns, 'Volatility' : PortfolioVol, 'Sharpe Ratio' : SharpeRatios}\n",
    "for Iterator,Ticker in enumerate(Stocks):\n",
    "    portfolio[f'{Ticker} Weight'] = [Weight[Iterator] for Weight in PortfolioWeights]\n",
    "\n",
    "\n",
    "df = pd.DataFrame(portfolio)\n",
    "print(df.head())\n"
   ]
  },
  {
   "cell_type": "markdown",
   "id": "1ce50d75",
   "metadata": {},
   "source": [
    "## Finding The Most Optimal Portfolio!\n",
    "#### Utilizing the Panda's loc functions, we are able to find the Optimal Portfio which contains the HIGHEST Sharpe Ratio!\n",
    "#### Consequently, we get key data from the optimal portfolio that we can do even FURTHER processing on!\n"
   ]
  },
  {
   "cell_type": "code",
   "execution_count": 23,
   "id": "d0e82797",
   "metadata": {},
   "outputs": [
    {
     "name": "stdout",
     "output_type": "stream",
     "text": [
      "        Returns  Volatility  Sharpe Ratio  AAPL Weight  TSLA Weight  \\\n",
      "11547  0.519609    0.247737      2.097424     0.110424     0.205519   \n",
      "\n",
      "       NFLX Weight  XOM Weight  T Weight  \n",
      "11547     0.113873    0.567014   0.00317  \n"
     ]
    }
   ],
   "source": [
    "MAX_SHARPE = df['Sharpe Ratio'].max()\n",
    "OptimalPortfolio = df.loc[df['Sharpe Ratio'] == MAX_SHARPE]\n",
    "\n",
    "print(OptimalPortfolio)\n"
   ]
  },
  {
   "cell_type": "markdown",
   "id": "c7a0d483",
   "metadata": {},
   "source": [
    "### Visualizing A Crude Example Of The Sharpe Ratio In Effect\n",
    "#### As a better way of exemplifying the conception behind the Sharpe Ratio, we will be utilizing an extreme simplification for visualization purposes. Do note that this cell is immaterial and solely serves to aid in achieving clarity.\n",
    "\n",
    "#### Utilizing the np.random.normal function, we are able to generate values consistent with a mean and a given standard deviation. In this crude example, should we have two portfolio's with distinct returns but the same underlying volatility, on a probabilistic basis the optimal portfolio have a greater localization of positive returns! Do note, LN2 represents the sub-optimal portfolio, and as such we can see a skewed distribution with a larger degree of data being localized on left side of the distribution."
   ]
  },
  {
   "cell_type": "code",
   "execution_count": 24,
   "id": "af90b971",
   "metadata": {},
   "outputs": [
    {
     "data": {
      "image/png": "[encoded data removed]",
      "text/plain": [
       "<Figure size 432x288 with 1 Axes>"
      ]
     },
     "metadata": {
      "needs_background": "light"
     },
     "output_type": "display_data"
    }
   ],
   "source": [
    "ln1 = []\n",
    "ln2 = []\n",
    "mean1 = .35\n",
    "mean2 = .10\n",
    "vol1 = .20\n",
    "vol2 = .20\n",
    "\n",
    "for i in range(100):\n",
    "    ln1.append(np.random.normal(mean1, vol1))\n",
    "    ln2.append(np.random.normal(mean2, vol2))\n",
    "\n",
    "\n",
    "plt.hist(ln1, label = 'Optimal Sharpe Dist')\n",
    "plt.hist(ln2, label = 'Suboptimal Sharpe Dist')\n",
    "plt.legend()\n",
    "\n",
    "\n",
    "plt.show()"
   ]
  },
  {
   "cell_type": "markdown",
   "id": "cf84c5f2",
   "metadata": {},
   "source": [
    "## Value At Risk (VaR) Section\n",
    "#### Q: What is VaR? \n",
    "#### A: VaR is a statistical calculation which endeavors to represent a maximum loss based on a given time-delta. We may utilize historical returns and generate a distribution to determine where a given probability of data lies. In the next cells, we generate a VaR using distinct methods.\n",
    "\n",
    "### Method 1"
   ]
  },
  {
   "cell_type": "code",
   "execution_count": 42,
   "id": "4cc292aa",
   "metadata": {},
   "outputs": [
    {
     "name": "stdout",
     "output_type": "stream",
     "text": [
      "Portfolio Volatility: 24.77%\n",
      "99.0% VaR is: $36377.1\n"
     ]
    }
   ],
   "source": [
    "x = OptimalPortfolio.to_numpy()\n",
    "p = []\n",
    "for i in range(0, 7):\n",
    "    p.append(x[0][i])\n",
    "\n",
    "Values = np.array(p)\n",
    "Optimal_Volatility_Exposure = Values[1]\n",
    "Optimal_Return = Values[0]\n",
    "\n",
    "\n",
    "Confidence_Levels = [.99]\n",
    "Initial_Portfolio_Value = 1000000\n",
    "DaysToProject = 1\n",
    "\n",
    "print(f\"Portfolio Volatility: {round((Optimal_Volatility_Exposure) * 100, 2)}%\")\n",
    "DegreeOfCert = norm.ppf(Confidence_Levels[0])\n",
    "VaR = Initial_Portfolio_Value * DegreeOfCert * Optimal_Volatility_Exposure * np.sqrt(DaysToProject/251)\n",
    "print(f\"{Confidence_Levels[0]*100}% VaR is: ${round(VaR, 2)}\")\n",
    "\n"
   ]
  },
  {
   "cell_type": "markdown",
   "id": "dbc9ecfc",
   "metadata": {},
   "source": [
    "### Method 2: Conduct VaR analysis by generating random samples from a Gaussian Distribution with a mean of 0 and a standard deviation which is adjusted to the daily time-frame. \n",
    "#### Do note, we are utilizing the identical np.random.normal function from the previous slides!\n",
    "#### As you can see in this distribution, there exists a vertical line representing the cutoff point where 99% of generations exist beyond.\n",
    "#### In the interest of checking the distinction between these methods, we output the delta."
   ]
  },
  {
   "cell_type": "code",
   "execution_count": 46,
   "id": "9c1c24ce",
   "metadata": {
    "scrolled": true
   },
   "outputs": [
    {
     "data": {
      "image/png": "[encoded data removed]",
      "text/plain": [
       "<Figure size 432x288 with 1 Axes>"
      ]
     },
     "metadata": {
      "needs_background": "light"
     },
     "output_type": "display_data"
    },
    {
     "name": "stdout",
     "output_type": "stream",
     "text": [
      "Method 1 VaR 36377.09641908253 : Method 2 VaR 36288.38742980236!\n",
      "The Delta Between Method 1 (Parametric) VaR and Method 2 (Simulation) VaR is = 89$!\n"
     ]
    }
   ],
   "source": [
    "tsim = []\n",
    "for i in range(50000):\n",
    "    tsim.append((np.random.normal(0, (Optimal_Volatility_Exposure)*np.sqrt(1/252)))) \n",
    "percentileone = np.percentile(np.array(tsim), 1)\n",
    "\n",
    "VaR2 = abs(Initial_Portfolio_Value * percentileone)\n",
    "\n",
    "plt.hist(tsim)\n",
    "plt.title(\"Simulated Returns\")\n",
    "plt.axvline(x=percentileone, label='99th Percentile', color = \"red\")\n",
    "plt.legend()\n",
    "plt.show()\n",
    "\n",
    "print(f\"Method 1 VaR {VaR} : Method 2 VaR {VaR2}!\")\n",
    "print(f\"The Delta Between Method 1 (Parametric) VaR and Method 2 (Simulation) VaR is = {round(VaR - VaR2)}$!\")"
   ]
  },
  {
   "cell_type": "markdown",
   "id": "53b6609a",
   "metadata": {},
   "source": [
    "## CHECKPOINT: \n",
    "### Now that we've obtained our most optimal portfolio, our next objective is to compute a Portfolio \"Beta\" such that we may gauge our amplification to the market. \n",
    "\n",
    "### Q: What is Beta?\n",
    "### A: Beta is a metric that is a key variable in the Capital Asset Pricing Model (CAPM) developed by William Sharpe. For our purposes an initial glance at Beta allows for us to gauge our portfolio's expected responsiveness per unit of movement in the market of choice. In this case we are indexing our Portfolio to the SPY ETF.\n",
    "\n",
    "\n",
    "### Q: How is Beta Calculated? \n",
    "### A: In this scenario, we are opting to calculate Beta by conducting OLS regression on both index and stock (in our given list of stocks) returns!\n",
    "\n",
    "### Q: Why OLS Regression?\n",
    "### A: We use Ordinary Least Squares Regression to obtain the slope coefficient associated with the line of best fit. This slope coefficient is the Beta! In laymens terms, it effectively operates on SPY returns such that we can \"predict\" a given stock's state (return). \n",
    "\n",
    "### Q: What about Alpha?\n",
    "### A: Alpha is the y-intercept which in laymens terms is the value when SPY returns are projected to be 0. For the sake of exemplifying this concept (without units): if Alpha is 3, this represents a stock having excess returns of 3 when SPY returns are projected to be 0!\n",
    "\n",
    "\n",
    "### Please Note: As you can see, I've opted to create two separate lists for demonstration purposes, one includes SPY as a quasi-mathematical proof to ensure our calculations are in fact accurate. The Beta of SPY as it is the index of interest is 1.0, so by observing this in our list we are able to corroborate that the calculations are in fact correct. \n",
    "\n",
    "\n",
    "### Usage Of The LinearRegression Function Source: https://blog.quantinsti.com/asset-beta-market-beta-python/"
   ]
  },
  {
   "cell_type": "code",
   "execution_count": 47,
   "id": "952c4dc2",
   "metadata": {},
   "outputs": [
    {
     "name": "stdout",
     "output_type": "stream",
     "text": [
      "[1.221460205476981, 1.3688029872026342, 0.7915531498650823, 1.1085217924482131, 0.7783524919510636, 1.0000000000000004]\n",
      "[1.221460205476981, 1.3688029872026342, 0.7915531498650823, 1.1085217924482131, 0.7783524919510636]\n"
     ]
    }
   ],
   "source": [
    "import statsmodels.api as sm\n",
    "from statsmodels import regression\n",
    "def linreg(x, y):\n",
    "    x = sm.add_constant(x)\n",
    "    model = regression.linear_model.OLS(y, x).fit()\n",
    "    \n",
    "    return model.params[1]\n",
    "\n",
    "start = dt.datetime(2019, 1, 1)\n",
    "now = dt.datetime.now() \n",
    "\n",
    "StocksWithSPY = ['AAPL', 'TSLA', 'NFLX', 'XOM', 'T','SPY']\n",
    "\n",
    "df = pdr.DataReader(StocksWithSPY, data_source='yahoo', start=start, end=now)['Adj Close']\n",
    "\n",
    "LNRet = np.log(df/df.shift(1))\n",
    "LNRet.dropna(inplace = True)\n",
    "Betas = []\n",
    "\n",
    "SPY_Returns = LNRet['SPY']\n",
    "\n",
    "for ReturnList in [LNRet[symbl] for symbl in StocksWithSPY]:\n",
    "    Beta = linreg(SPY_Returns, ReturnList)\n",
    "    Betas.append(Beta)\n",
    "\n",
    "\n",
    "\n",
    "\n",
    "print(Betas)\n",
    "BetasWithoutSPY = []\n",
    "for Beta in Betas[:-1]:\n",
    "    BetasWithoutSPY.append(Beta)\n",
    "\n",
    "print(BetasWithoutSPY)\n",
    "    \n"
   ]
  },
  {
   "cell_type": "markdown",
   "id": "85db886c",
   "metadata": {},
   "source": [
    "## Calculate Portfolio Beta! \n",
    "### Now that we have obtained a list with our Beta variables inside it, we are able to calculate a weighted portfolio Beta by computing the dot product of the optimal weights and Betas for each respective stock. \n",
    "\n",
    "### Q: So we have a Portfolio Beta, now what?\n",
    "### A: As previously mentioned, now that we have a Portfolio Beta we may gauge our portfolio's amplification to returns in SPY. If we project a market crash, how would we adequately tackle this scenario? We may take a -1 Beta position to represent our portfolio increasing in value as SPY decreases. Conversely, if we predict specific companies within our portfolio are subject to market duress, we may eliminate idiosyncratic risk from our portfolio by modifying our Beta to 1.\n",
    "\n",
    "### Q: Why not sell our holdings in the case of a market crash?\n",
    "### A: Lest we wish to trigger a taxable event, a portfolio hedge may prove a cheaper more efficient option. We may also wish to record the efficacy of the hedge for accounting purposes by checking if this hedge qualifies as a \"Efficient Hedge\". "
   ]
  },
  {
   "cell_type": "code",
   "execution_count": 48,
   "id": "2ff013de",
   "metadata": {},
   "outputs": [
    {
     "name": "stdout",
     "output_type": "stream",
     "text": [
      "1.1373444875237926\n"
     ]
    }
   ],
   "source": [
    "weights = []\n",
    "for i in range(3, 8):\n",
    "    weights.append(x[0][i])\n",
    "\n",
    "PortfolioBeta = np.dot(weights, BetasWithoutSPY)\n",
    "print(PortfolioBeta)"
   ]
  },
  {
   "cell_type": "markdown",
   "id": "1594dc91",
   "metadata": {},
   "source": [
    "## Consider The Following:\n",
    "\n",
    "### Let us impose a scenario by which our current portfolio's projected VaR derived solely from idiosyncratic risk. In order to hedge against this, we may consider modifying our portfolio such that it approximates a Beta of 1. Conversely, if we want inverse exposure to the market we modify our Target Beta to -1! The same corollary applies: as we modify Beta we begin to approximate different degrees of exposure.\n",
    "\n",
    "### Q: What are we hedging with?\n",
    "### A: For the purposes of simplicity, we will be opting to hedge with E-Mini Futures on the S&P 500.\n",
    "\n",
    "### Q: To whom do we accredit the Beta Hedging formula?\n",
    "### A: John Hull, for those who are inclined to view the forumla please visit: https://www.montana.edu/ebelasco/agec421/hullslides/Ch03Hull.pdf Slide 12\n",
    "\n",
    "\n",
    "### Do note, we are utilizing YahooFinance to pull Futures data, but there are alternative ways of sourcing data such as the CME API which can be used in conjunction with the Datamine library. We may opt to utilize BeautifulSoup or alternative libraries to scrape data; however for our purposes YahooFinance more than suffices. \n",
    "\n",
    "#### Github To Datamine Library (Not Used In This File) https://github.com/CMEGroup/datamine_python\n",
    "\n",
    "### I encourage you to alter the \"Target_Beta\" variable (Alter To Values: (-1, 0, 1, 2))  should you wish to observe the theory coinciding with a rational hypothesis as it relates to Beta."
   ]
  },
  {
   "cell_type": "code",
   "execution_count": 49,
   "id": "28aa45c0-d6bb-47a7-a65f-fb2f0bb900af",
   "metadata": {},
   "outputs": [
    {
     "name": "stdout",
     "output_type": "stream",
     "text": [
      "Current Adj Close Front Month E-Mini S&P Futures: 4322.75\n",
      "A Theoretical Beta Hedge Of This Portfolio Would Require One To: \n",
      "Short 0.65 contracts!\n"
     ]
    }
   ],
   "source": [
    "Target_Beta = 1 ##Alter Target Beta To Another Value\n",
    "\n",
    "################################################################################################################################\n",
    "PortfolioBeta = round(PortfolioBeta, 2)\n",
    "\n",
    "Futures = pdr.DataReader('ES=F', data_source='yahoo', start=start, end=now)['Adj Close'][-1]\n",
    "print(f\"Current Adj Close Front Month E-Mini S&P Futures: {Futures}\")\n",
    "print(f\"A Theoretical Beta Hedge Of This Portfolio Would Require One To: \")\n",
    "\n",
    "class FuturesContract:\n",
    "    \n",
    "    def __init__(self, FuturesPrice, ContractMultiplier):\n",
    "        self.FuturesPrice = FuturesPrice\n",
    "        self.ContractMultiplier = ContractMultiplier\n",
    "        self.ValueOfContract = self.FuturesPrice * self.ContractMultiplier\n",
    "        \n",
    "\n",
    "class HedgeBeta:\n",
    "    \n",
    "    def __init__(self, PortValue, PortBeta, TargetBeta, FuturesContract):\n",
    "        self.PortValue = PortValue\n",
    "        self.PortBeta = PortBeta\n",
    "        self.TargetBeta = TargetBeta\n",
    "        self.ValueHedge = FuturesContract.ValueOfContract\n",
    "        self.NumContracts = float((self.TargetBeta - self.PortBeta) * (self.PortValue/self.ValueHedge))\n",
    "\n",
    "Contract = FuturesContract(Futures, 50)\n",
    "SimulationHedge = HedgeBeta(Initial_Portfolio_Value, PortfolioBeta, Target_Beta, Contract)\n",
    "\n",
    "\n",
    "if SimulationHedge.NumContracts > 0:\n",
    "    print(f\"Long {round(SimulationHedge.NumContracts, 2)} !\")\n",
    "else:\n",
    "    print(f\"Short {abs(round(SimulationHedge.NumContracts, 2))} contracts!\")"
   ]
  },
  {
   "cell_type": "markdown",
   "id": "9928161c",
   "metadata": {},
   "source": [
    "## Thank you for viewing this file!\n",
    "#### - Maurice Hoffman \n",
    "\n",
    "#### Questions? Thoughts? Discussions?  Email: Maurice.Hoffman82@gmail.com"
   ]
  }
 ],
 "metadata": {
  "kernelspec": {
   "display_name": "Python 3",
   "language": "python",
   "name": "python3"
  },
  "language_info": {
   "codemirror_mode": {
    "name": "ipython",
    "version": 3
   },
   "file_extension": ".py",
   "mimetype": "text/x-python",
   "name": "python",
   "nbconvert_exporter": "python",
   "pygments_lexer": "ipython3",
   "version": "3.6.13"
  }
 },
 "nbformat": 4,
 "nbformat_minor": 5
}
